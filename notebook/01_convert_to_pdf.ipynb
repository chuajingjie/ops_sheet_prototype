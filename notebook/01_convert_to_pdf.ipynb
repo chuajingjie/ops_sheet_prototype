{
 "cells": [
  {
   "cell_type": "code",
   "execution_count": 3,
   "metadata": {},
   "outputs": [],
   "source": [
    "from pathlib import Path\n",
    "import shutil\n",
    "import win32com.client"
   ]
  },
  {
   "cell_type": "code",
   "execution_count": 4,
   "metadata": {},
   "outputs": [],
   "source": [
    "class PDFConverter:\n",
    "\n",
    "    def __init__(self):\n",
    "        self.raw_dir = Path(\"../data/sample/raw\").resolve()\n",
    "        self.interim_dir = Path(\"../data/sample/interim\").resolve()\n",
    "  \n",
    "        self.word = win32com.client.Dispatch(\"Word.Application\")\n",
    "        self.word.Visible = False\n",
    "\n",
    "    def convert_files_to_pdf(self):\n",
    "\n",
    "        # (A) get all the filepaths under raw directory\n",
    "        filepaths = [p.resolve() for p in self.raw_dir.rglob(\"*\") if p.is_file()]\n",
    "\n",
    "        # (B) and create a .pdf copy of the file into the interim directory \n",
    "        for filepath in filepaths:\n",
    "\n",
    "            # word files will be converted to pdf\n",
    "            if filepath.suffix in [\".doc\", \".docx\"]:\n",
    "\n",
    "                relative_path = filepath.relative_to(self.raw_dir).with_suffix(\".pdf\") \n",
    "                output_path = (self.interim_dir / relative_path).resolve() \n",
    "        \n",
    "                doc = self.word.Documents.Open(str(filepath))\n",
    "                doc.SaveAs(str(output_path), FileFormat=17)\n",
    "                doc.Close()\n",
    "\n",
    "            # pdf files will be copied as it is\n",
    "            elif filepath.suffix == \".pdf\":\n",
    "                \n",
    "                relative_path = filepath.relative_to(self.raw_dir)\n",
    "                output_path = (self.interim_dir / relative_path).resolve()\n",
    "                shutil.copy2(filepath, output_path)\n",
    "\n",
    "pdf_converter = PDFConverter()\n",
    "pdf_converter.convert_files_to_pdf()"
   ]
  }
 ],
 "metadata": {
  "kernelspec": {
   "display_name": "Python 3",
   "language": "python",
   "name": "python3"
  },
  "language_info": {
   "codemirror_mode": {
    "name": "ipython",
    "version": 3
   },
   "file_extension": ".py",
   "mimetype": "text/x-python",
   "name": "python",
   "nbconvert_exporter": "python",
   "pygments_lexer": "ipython3",
   "version": "3.9.21"
  }
 },
 "nbformat": 4,
 "nbformat_minor": 2
}
