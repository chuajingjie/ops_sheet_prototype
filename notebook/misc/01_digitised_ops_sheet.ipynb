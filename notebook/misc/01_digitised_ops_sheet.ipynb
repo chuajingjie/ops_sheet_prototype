{
 "cells": [
  {
   "cell_type": "code",
   "execution_count": 1,
   "metadata": {},
   "outputs": [],
   "source": [
    "import re"
   ]
  },
  {
   "cell_type": "markdown",
   "metadata": {},
   "source": [
    "#### Read Data"
   ]
  },
  {
   "cell_type": "code",
   "execution_count": 2,
   "metadata": {},
   "outputs": [
    {
     "ename": "FileNotFoundError",
     "evalue": "no such file: '../data/digitised/1705 (2170) Change layout and Phasing 07Jan2025.pdf'",
     "output_type": "error",
     "traceback": [
      "\u001b[1;31m---------------------------------------------------------------------------\u001b[0m",
      "\u001b[1;31mFileNotFoundError\u001b[0m                         Traceback (most recent call last)",
      "Cell \u001b[1;32mIn[2], line 14\u001b[0m\n\u001b[0;32m     12\u001b[0m \u001b[38;5;66;03m# Replace with your PDF file path\u001b[39;00m\n\u001b[0;32m     13\u001b[0m file_path \u001b[38;5;241m=\u001b[39m \u001b[38;5;124m\"\u001b[39m\u001b[38;5;124m../data/digitised/1705 (2170) Change layout and Phasing 07Jan2025.pdf\u001b[39m\u001b[38;5;124m\"\u001b[39m\n\u001b[1;32m---> 14\u001b[0m ops_sheet \u001b[38;5;241m=\u001b[39m \u001b[43mread_pdf_to_dict\u001b[49m\u001b[43m(\u001b[49m\u001b[43mfile_path\u001b[49m\u001b[43m)\u001b[49m\n",
      "Cell \u001b[1;32mIn[2], line 4\u001b[0m, in \u001b[0;36mread_pdf_to_dict\u001b[1;34m(path)\u001b[0m\n\u001b[0;32m      3\u001b[0m \u001b[38;5;28;01mdef\u001b[39;00m\u001b[38;5;250m \u001b[39m\u001b[38;5;21mread_pdf_to_dict\u001b[39m(path):\n\u001b[1;32m----> 4\u001b[0m     doc \u001b[38;5;241m=\u001b[39m \u001b[43mfitz\u001b[49m\u001b[38;5;241;43m.\u001b[39;49m\u001b[43mopen\u001b[49m\u001b[43m(\u001b[49m\u001b[43mpath\u001b[49m\u001b[43m)\u001b[49m\n\u001b[0;32m      5\u001b[0m     pages \u001b[38;5;241m=\u001b[39m {}\n\u001b[0;32m      6\u001b[0m     \u001b[38;5;28;01mfor\u001b[39;00m page_num, page \u001b[38;5;129;01min\u001b[39;00m \u001b[38;5;28menumerate\u001b[39m(doc):\n",
      "File \u001b[1;32mc:\\Users\\chuaj\\miniconda3\\envs\\ops_sheet_knowledge_base\\lib\\site-packages\\pymupdf\\__init__.py:2928\u001b[0m, in \u001b[0;36mDocument.__init__\u001b[1;34m(self, filename, stream, filetype, rect, width, height, fontsize)\u001b[0m\n\u001b[0;32m   2926\u001b[0m \u001b[38;5;28;01mif\u001b[39;00m \u001b[38;5;129;01mnot\u001b[39;00m os\u001b[38;5;241m.\u001b[39mpath\u001b[38;5;241m.\u001b[39mexists(filename):\n\u001b[0;32m   2927\u001b[0m     msg \u001b[38;5;241m=\u001b[39m \u001b[38;5;124mf\u001b[39m\u001b[38;5;124m\"\u001b[39m\u001b[38;5;124mno such file: \u001b[39m\u001b[38;5;124m'\u001b[39m\u001b[38;5;132;01m{\u001b[39;00mfilename\u001b[38;5;132;01m}\u001b[39;00m\u001b[38;5;124m'\u001b[39m\u001b[38;5;124m\"\u001b[39m\n\u001b[1;32m-> 2928\u001b[0m     \u001b[38;5;28;01mraise\u001b[39;00m \u001b[38;5;167;01mFileNotFoundError\u001b[39;00m(msg)\n\u001b[0;32m   2929\u001b[0m \u001b[38;5;28;01melif\u001b[39;00m \u001b[38;5;129;01mnot\u001b[39;00m os\u001b[38;5;241m.\u001b[39mpath\u001b[38;5;241m.\u001b[39misfile(filename):\n\u001b[0;32m   2930\u001b[0m     msg \u001b[38;5;241m=\u001b[39m \u001b[38;5;124mf\u001b[39m\u001b[38;5;124m\"\u001b[39m\u001b[38;5;124m'\u001b[39m\u001b[38;5;132;01m{\u001b[39;00mfilename\u001b[38;5;132;01m}\u001b[39;00m\u001b[38;5;124m'\u001b[39m\u001b[38;5;124m is no file\u001b[39m\u001b[38;5;124m\"\u001b[39m\n",
      "\u001b[1;31mFileNotFoundError\u001b[0m: no such file: '../data/digitised/1705 (2170) Change layout and Phasing 07Jan2025.pdf'"
     ]
    }
   ],
   "source": [
    "import fitz  # PyMuPDF\n",
    "\n",
    "def read_pdf_to_dict(path):\n",
    "    doc = fitz.open(path)\n",
    "    pages = {}\n",
    "    for page_num, page in enumerate(doc):\n",
    "        text = page.get_text()\n",
    "        pages[page_num + 1] = text  \n",
    "    doc.close()\n",
    "    return pages\n",
    "\n",
    "# Replace with your PDF file path\n",
    "file_path = \"../data/digitised/1705 (2170) Change layout and Phasing 07Jan2025.pdf\"\n",
    "ops_sheet = read_pdf_to_dict(file_path)"
   ]
  },
  {
   "cell_type": "code",
   "execution_count": null,
   "metadata": {},
   "outputs": [],
   "source": []
  },
  {
   "cell_type": "markdown",
   "metadata": {},
   "source": [
    "#### Extract Page 1 Data"
   ]
  },
  {
   "cell_type": "code",
   "execution_count": 42,
   "metadata": {},
   "outputs": [],
   "source": [
    "data_dict = {'Location': None,\n",
    "             'Int. No': None,\n",
    "             'Date' : None,\n",
    "             'GOMS': None,\n",
    "             'Signal ID': None}\n",
    "\n",
    "for key, value in data_dict.items():\n",
    "    \n",
    "    pattern = fr\"{key}:\\s*(.+?)(?:\\n|\\s{{2,}})\"\n",
    "    match = re.search(pattern, ops_sheet[1])\n",
    "    if match:\n",
    "        data_dict[key] = match.group(1).strip()"
   ]
  },
  {
   "cell_type": "code",
   "execution_count": 48,
   "metadata": {},
   "outputs": [
    {
     "data": {
      "text/plain": [
       "{'Location': 'SELETAR WEST LINK / YISHUN AVE 1',\n",
       " 'Int. No': '1705',\n",
       " 'Date': '07 / 01 / 2025',\n",
       " 'GOMS': '20241226-0719',\n",
       " 'Signal ID': '2170',\n",
       " 'GMP': 'Y'}"
      ]
     },
     "execution_count": 48,
     "metadata": {},
     "output_type": "execute_result"
    }
   ],
   "source": [
    "data_dict"
   ]
  },
  {
   "cell_type": "markdown",
   "metadata": {},
   "source": [
    "#### Extract Page 4 Data"
   ]
  },
  {
   "cell_type": "code",
   "execution_count": 53,
   "metadata": {},
   "outputs": [],
   "source": [
    "if re.search(r'\\bPB\\b', ops_sheet[4]):\n",
    "    data_dict['GMP'] = 'Y'\n",
    "else:\n",
    "    data_dict['GMP'] = 'N'\n"
   ]
  },
  {
   "cell_type": "markdown",
   "metadata": {},
   "source": [
    "#### Extract Page 6 Data"
   ]
  },
  {
   "cell_type": "code",
   "execution_count": 58,
   "metadata": {},
   "outputs": [],
   "source": [
    "pattern = fr\"Pedestrian Walking Speed:\\s*(.+?)(?:\\n|\\s{{2,}})\"\n",
    "match = re.search(pattern, ops_sheet[6])\n",
    "\n",
    "if match:\n",
    "    data_dict['Pedestrian Walking Speed'] = match.group(1).strip()\n",
    "else:\n",
    "    data_dict['Pedestrian Walking Speed'] = None"
   ]
  },
  {
   "cell_type": "code",
   "execution_count": 59,
   "metadata": {},
   "outputs": [
    {
     "data": {
      "text/plain": [
       "{'Location': 'SELETAR WEST LINK / YISHUN AVE 1',\n",
       " 'Int. No': '1705',\n",
       " 'Date': '07 / 01 / 2025',\n",
       " 'GOMS': '20241226-0719',\n",
       " 'Signal ID': '2170',\n",
       " 'GMP': 'N',\n",
       " 'Pedestrian Walking Speed': '1.0 m/sec'}"
      ]
     },
     "execution_count": 59,
     "metadata": {},
     "output_type": "execute_result"
    }
   ],
   "source": [
    "data_dict"
   ]
  },
  {
   "cell_type": "code",
   "execution_count": 66,
   "metadata": {},
   "outputs": [],
   "source": [
    "import re\n",
    "\n",
    "def check_section(text, section_name, headers):\n",
    "    # Build a pattern to capture the section between current and next section (or page end)\n",
    "    pattern = rf\"{section_name}(.*?)(?:(?:SPECIAL FACILITIES|PRE-EMPTION|Pg\\.\\s*\\d+|$))\"\n",
    "    match = re.search(pattern, text, re.DOTALL | re.IGNORECASE)\n",
    "    if not match:\n",
    "        return 'N'\n",
    "\n",
    "    section = match.group(1).strip()\n",
    "\n",
    "    # Remove known headers\n",
    "    for header in headers:\n",
    "        section = re.sub(rf\"\\b{re.escape(header)}\\b\", \"\", section, flags=re.IGNORECASE)\n",
    "\n",
    "    # Remove all whitespace\n",
    "    cleaned = re.sub(r\"\\s+\", \"\", section)\n",
    "\n",
    "    return 'N' if cleaned == \"\" else 'Y'\n",
    "\n",
    "\n",
    "# For SPECIAL FACILITIES\n",
    "data_dict['special_facilities'] = check_section(\n",
    "    ops_sheet[6],\n",
    "    \"SPECIAL FACILITIES\",\n",
    "    [\"SIGNAL GROUP\", \"HOUR\", \"MINUTE\", \"SECOND\", \"FUNCTION\"]\n",
    ")\n",
    "\n",
    "# For PRE-EMPTION\n",
    "data_dict['pre_emption'] = check_section(\n",
    "    ops_sheet[6],\n",
    "    \"PRE-EMPTION\",\n",
    "    [\"SIGNAL GROUP\", \"PHASE\", \"FUNCTION\", \"REMARKS\"]\n",
    ")\n",
    "\n"
   ]
  },
  {
   "cell_type": "code",
   "execution_count": 68,
   "metadata": {},
   "outputs": [
    {
     "data": {
      "text/plain": [
       "{'Location': 'SELETAR WEST LINK / YISHUN AVE 1',\n",
       " 'Int. No': '1705',\n",
       " 'Date': '07 / 01 / 2025',\n",
       " 'GOMS': '20241226-0719',\n",
       " 'Signal ID': '2170',\n",
       " 'GMP': 'N',\n",
       " 'Pedestrian Walking Speed': '1.0 m/sec',\n",
       " 'special_facilities': 'N',\n",
       " 'pre_emption': 'N'}"
      ]
     },
     "execution_count": 68,
     "metadata": {},
     "output_type": "execute_result"
    }
   ],
   "source": [
    "data_dict"
   ]
  },
  {
   "cell_type": "code",
   "execution_count": 62,
   "metadata": {},
   "outputs": [
    {
     "name": "stdout",
     "output_type": "stream",
     "text": [
      " \n",
      "INTERGREEN, PEDESTRIAN TIMES AND SPECIAL FUNCTIONS \n",
      " \n",
      "Location: SELETAR WEST LINK / YISHUN AVE 1 \n",
      " \n",
      " \n",
      " \n",
      " \n",
      "       Int. No: 1705 \n",
      " \n",
      "PHASE \n",
      "CLEARANCE \n",
      "MOVEMENT \n",
      "CLEARANCE \n",
      "DISTANCE \n",
      "INTERGREEN \n",
      " \n",
      "PED \n",
      "NO. PHASE \n",
      "WALK \n",
      "CLEARANCE TIME \n",
      "AMBER RED TOTAL \n",
      " \n",
      "DISTANCE (m) GREEN TIME \n",
      "1 \n",
      "2 \n",
      "A \n",
      " \n",
      " \n",
      "3 \n",
      "4 \n",
      "7 \n",
      " \n",
      "1 \n",
      "A \n",
      "31 \n",
      "6 \n",
      "31 \n",
      " \n",
      "B \n",
      " \n",
      " \n",
      "3 \n",
      "3 \n",
      "6 \n",
      " \n",
      "2 \n",
      "B \n",
      "21 \n",
      "6 \n",
      "21 \n",
      " \n",
      "C \n",
      " \n",
      " \n",
      "3 \n",
      "3 \n",
      "6 \n",
      " \n",
      "3 \n",
      " \n",
      " \n",
      " \n",
      " \n",
      " \n",
      "D \n",
      " \n",
      " \n",
      " \n",
      " \n",
      " \n",
      " \n",
      "4 \n",
      " \n",
      " \n",
      " \n",
      " \n",
      " \n",
      "E \n",
      " \n",
      " \n",
      " \n",
      " \n",
      " \n",
      " \n",
      "5 \n",
      " \n",
      " \n",
      " \n",
      " \n",
      " \n",
      "F \n",
      " \n",
      " \n",
      " \n",
      " \n",
      " \n",
      " \n",
      "6 \n",
      " \n",
      " \n",
      " \n",
      " \n",
      " \n",
      "G \n",
      " \n",
      " \n",
      " \n",
      " \n",
      " \n",
      " \n",
      "7 \n",
      " \n",
      " \n",
      " \n",
      " \n",
      " \n",
      " \n",
      " \n",
      " \n",
      " \n",
      " \n",
      " \n",
      " \n",
      "Pedestrian Walking Speed: 1.0 m/sec \n",
      "                                                                                                             \n",
      " \n",
      "SPECIAL FACILITIES \n",
      " \n",
      "SIGNAL GROUP \n",
      "HOUR \n",
      "MINUTE \n",
      "SECOND \n",
      "FUNCTION \n",
      " \n",
      " \n",
      " \n",
      " \n",
      " \n",
      " \n",
      " \n",
      " \n",
      " \n",
      " \n",
      " \n",
      " \n",
      " \n",
      " \n",
      " \n",
      " \n",
      " \n",
      " \n",
      " \n",
      " \n",
      " \n",
      "PRE-EMPTION \n",
      " \n",
      "SIGNAL GROUP \n",
      "PHASE \n",
      "FUNCTION \n",
      "REMARKS \n",
      " \n",
      " \n",
      " \n",
      " \n",
      " \n",
      " \n",
      " \n",
      " \n",
      " \n",
      " \n",
      " \n",
      " \n",
      " \n",
      " \n",
      " \n",
      " \n",
      " \n",
      " \n",
      " \n",
      " \n",
      " \n",
      " \n",
      " \n",
      " \n",
      " \n",
      "Pg. 6 \n",
      "\n"
     ]
    }
   ],
   "source": [
    "print(ops_sheet[6])"
   ]
  },
  {
   "cell_type": "code",
   "execution_count": null,
   "metadata": {},
   "outputs": [],
   "source": []
  },
  {
   "cell_type": "code",
   "execution_count": null,
   "metadata": {},
   "outputs": [],
   "source": [
    "#### Extract Page 4 Data"
   ]
  },
  {
   "cell_type": "markdown",
   "metadata": {},
   "source": []
  },
  {
   "cell_type": "code",
   "execution_count": null,
   "metadata": {},
   "outputs": [],
   "source": []
  },
  {
   "cell_type": "code",
   "execution_count": null,
   "metadata": {},
   "outputs": [],
   "source": []
  },
  {
   "cell_type": "code",
   "execution_count": 54,
   "metadata": {},
   "outputs": [
    {
     "data": {
      "text/plain": [
       "{'Location': 'SELETAR WEST LINK / YISHUN AVE 1',\n",
       " 'Int. No': '1705',\n",
       " 'Date': '07 / 01 / 2025',\n",
       " 'GOMS': '20241226-0719',\n",
       " 'Signal ID': '2170',\n",
       " 'GMP': 'N'}"
      ]
     },
     "execution_count": 54,
     "metadata": {},
     "output_type": "execute_result"
    }
   ],
   "source": []
  },
  {
   "cell_type": "code",
   "execution_count": 50,
   "metadata": {},
   "outputs": [
    {
     "data": {
      "text/plain": [
       "{'Location': 'SELETAR WEST LINK / YISHUN AVE 1',\n",
       " 'Int. No': '1705',\n",
       " 'Date': '07 / 01 / 2025',\n",
       " 'GOMS': '20241226-0719',\n",
       " 'Signal ID': '2170',\n",
       " 'GMP': 'Y'}"
      ]
     },
     "execution_count": 50,
     "metadata": {},
     "output_type": "execute_result"
    }
   ],
   "source": [
    "data_dict"
   ]
  },
  {
   "cell_type": "code",
   "execution_count": null,
   "metadata": {},
   "outputs": [],
   "source": []
  },
  {
   "cell_type": "code",
   "execution_count": null,
   "metadata": {},
   "outputs": [],
   "source": []
  },
  {
   "cell_type": "code",
   "execution_count": null,
   "metadata": {},
   "outputs": [],
   "source": []
  },
  {
   "cell_type": "code",
   "execution_count": null,
   "metadata": {},
   "outputs": [],
   "source": []
  },
  {
   "cell_type": "code",
   "execution_count": null,
   "metadata": {},
   "outputs": [],
   "source": []
  }
 ],
 "metadata": {
  "kernelspec": {
   "display_name": "Python 3",
   "language": "python",
   "name": "python3"
  },
  "language_info": {
   "codemirror_mode": {
    "name": "ipython",
    "version": 3
   },
   "file_extension": ".py",
   "mimetype": "text/x-python",
   "name": "python",
   "nbconvert_exporter": "python",
   "pygments_lexer": "ipython3",
   "version": "3.9.21"
  }
 },
 "nbformat": 4,
 "nbformat_minor": 2
}
